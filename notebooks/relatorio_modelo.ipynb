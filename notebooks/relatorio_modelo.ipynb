{
 "cells": [
  {
   "cell_type": "markdown",
   "metadata": {},
   "source": [
    "# Projeto 1 - Ciência dos Dados"
   ]
  },
  {
   "cell_type": "markdown",
   "metadata": {},
   "source": [
    "Nome: João Otávio Palma\n",
    "\n",
    "Nome: Pedro Garcia Carneiro da Cunha"
   ]
  },
  {
   "cell_type": "markdown",
   "metadata": {},
   "source": [
    "Atenção: Serão permitidos grupos de três pessoas, mas com uma rubrica mais exigente. Grupos deste tamanho precisarão fazer um questionário de avaliação de trabalho em equipe"
   ]
  },
  {
   "cell_type": "markdown",
   "metadata": {},
   "source": [
    "___\n",
    "## Carregando algumas bibliotecas:"
   ]
  },
  {
   "cell_type": "code",
   "execution_count": 17,
   "metadata": {},
   "outputs": [
    {
     "name": "stderr",
     "output_type": "stream",
     "text": [
      "[nltk_data] Downloading package stopwords to C:\\Users\\Joao\n",
      "[nltk_data]     Palma\\AppData\\Roaming\\nltk_data...\n",
      "[nltk_data]   Unzipping corpora\\stopwords.zip.\n"
     ]
    }
   ],
   "source": [
    "%matplotlib inline\n",
    "import pandas as pd\n",
    "import matplotlib.pyplot as plt\n",
    "import numpy as np\n",
    "import os\n",
    "import re\n",
    "import nltk\n",
    "nltk.download('stopwords')\n",
    "from nltk.corpus import stopwords"
   ]
  },
  {
   "cell_type": "markdown",
   "metadata": {},
   "source": [
    "## Classificador automático sobre a Bolsa de valores brasileira (B3)"
   ]
  },
  {
   "cell_type": "markdown",
   "metadata": {},
   "source": [
    "\n",
    "As notícias tiveram o seu escopo dentro da parte de economia do IstoéDinheiro. Com isso, o foco o target foi a bolsa brasileira, avaliando as informações nacionais e internacionais que poderiam causar um aumento da bolsa ou uma queda da mesma. Dessa forma, houve uma separação entre assuntos irrelevantes(pouco impactantes ou com nenhum realcionamento com o target), neutros(indiferença na manipulação da bolsa de valores brasileira) e relevantes(possuem chance de gerar alguma alteração). "
   ]
  },
  {
   "cell_type": "markdown",
   "metadata": {},
   "source": [
    "## \"Bloco\" de funções que auxiliaram o classificador automático:"
   ]
  },
  {
   "cell_type": "markdown",
   "metadata": {},
   "source": [
    "### Cleanup --> retira caracteres especiais e os caracteres que encontram-se em Caps lock:"
   ]
  },
  {
   "cell_type": "code",
   "execution_count": 18,
   "metadata": {},
   "outputs": [],
   "source": [
    "def cleanup(text):\n",
    "\n",
    "    #importando a string\n",
    "    punctuation = '[\\n!-:.?;,\")(~''/|\\*&%@#$_><}{ºª+=`]' \n",
    "    \n",
    "    pattern = re.compile(punctuation)\n",
    "    \n",
    "    text_subbed = re.sub(pattern, '', text)\n",
    "    \n",
    "    return text_subbed.lower()\n",
    "## Teste\n",
    "###textinho = 'hoje eu e o pedrão fomos ~ao shopping? talvez sim, talvez nao! \\n mas quem sabe - algumas pessoas foram: magali, cebolinha, magazine luiza (guilda)'\n",
    "\n",
    "###txtinho = cleanup(textinho)\n",
    "###print(txtinho)"
   ]
  },
  {
   "cell_type": "markdown",
   "metadata": {},
   "source": [
    "### NLP (Natural Language Processing) --> uso de bibliotecas que tenham stopwords para melhorar o processamento do calssificador:"
   ]
  },
  {
   "cell_type": "code",
   "execution_count": 19,
   "metadata": {},
   "outputs": [],
   "source": [
    "def stpwd (l_p): # recebe uma lista de palavras para analisar\n",
    "    \n",
    "    l_p_filtradas = []\n",
    "    \n",
    "    p_stpwd = stopwords.words('portuguese') # Acessa a lista de \"stop words\" da língua portuguesa dentro da biblioteca NLTK\n",
    "    \n",
    "    for p in l_p: # p = palarvra\n",
    "        \n",
    "        if p not in p_stpwd: # verifica se a palavra não está presente na lista\n",
    "            \n",
    "            l_p_filtradas.append(p)\n",
    "    \n",
    "    return l_p_filtradas"
   ]
  },
  {
   "cell_type": "markdown",
   "metadata": {},
   "source": [
    "## Verificando onde o arquivo se encontra:"
   ]
  },
  {
   "cell_type": "code",
   "execution_count": 20,
   "metadata": {
    "scrolled": false
   },
   "outputs": [
    {
     "name": "stdout",
     "output_type": "stream",
     "text": [
      "Esperamos trabalhar no diretório:\n",
      "C:\\Users\\Joao Palma\\OneDrive\\Área de Trabalho\\Insper\\2o semestre\\Ciência dos Dados\\Projeto 1\\22-2b-cd-p1-grupo_joaoogp\\notebooks\n"
     ]
    }
   ],
   "source": [
    "print('Esperamos trabalhar no diretório:')\n",
    "print(os.getcwd())"
   ]
  },
  {
   "cell_type": "markdown",
   "metadata": {},
   "source": [
    "## Carregando a base de dados com as notícias classificadas manualmente:"
   ]
  },
  {
   "cell_type": "code",
   "execution_count": 21,
   "metadata": {},
   "outputs": [
    {
     "data": {
      "text/plain": [
       "['dados.xlsx']"
      ]
     },
     "execution_count": 21,
     "metadata": {},
     "output_type": "execute_result"
    }
   ],
   "source": [
    "os.listdir('data')"
   ]
  },
  {
   "cell_type": "code",
   "execution_count": 22,
   "metadata": {},
   "outputs": [
    {
     "name": "stdout",
     "output_type": "stream",
     "text": [
      "Parece que o arquivo data/dados.xlsx está na pasta diretório correta\n"
     ]
    }
   ],
   "source": [
    "filename = 'data/dados.xlsx'\n",
    "\n",
    "# Verificando se é possível achar o arquivo:\n",
    "\n",
    "if 'dados.xlsx' in os.listdir('data'):\n",
    "    print(f'Parece que o arquivo {filename} está na pasta diretório correta')\n",
    "    \n",
    "else:\n",
    "    print(f'Parece que o arquivo {filename} NÃO está na pasta diretório correta')\n",
    "    "
   ]
  },
  {
   "cell_type": "code",
   "execution_count": 23,
   "metadata": {},
   "outputs": [
    {
     "data": {
      "text/html": [
       "<div>\n",
       "<style scoped>\n",
       "    .dataframe tbody tr th:only-of-type {\n",
       "        vertical-align: middle;\n",
       "    }\n",
       "\n",
       "    .dataframe tbody tr th {\n",
       "        vertical-align: top;\n",
       "    }\n",
       "\n",
       "    .dataframe thead th {\n",
       "        text-align: right;\n",
       "    }\n",
       "</style>\n",
       "<table border=\"1\" class=\"dataframe\">\n",
       "  <thead>\n",
       "    <tr style=\"text-align: right;\">\n",
       "      <th></th>\n",
       "      <th>Categoria</th>\n",
       "      <th>Titulo</th>\n",
       "      <th>Descrição</th>\n",
       "      <th>Data</th>\n",
       "      <th>Pagina</th>\n",
       "      <th>Target</th>\n",
       "    </tr>\n",
       "  </thead>\n",
       "  <tbody>\n",
       "    <tr>\n",
       "      <th>0</th>\n",
       "      <td>economia</td>\n",
       "      <td>Investimento Direto no País soma US$ 4,483 bi ...</td>\n",
       "      <td>Os Investimentos Diretos no País (IDP) somaram...</td>\n",
       "      <td>26/08/2022 10:23</td>\n",
       "      <td>47</td>\n",
       "      <td>2</td>\n",
       "    </tr>\n",
       "    <tr>\n",
       "      <th>1</th>\n",
       "      <td>economia</td>\n",
       "      <td>‘Não queremos a chinesada entrando aqui quebra...</td>\n",
       "      <td>O ministro da Economia, Paulo Guedes, afirmou ...</td>\n",
       "      <td>26/08/2022 17:08</td>\n",
       "      <td>46</td>\n",
       "      <td>0</td>\n",
       "    </tr>\n",
       "    <tr>\n",
       "      <th>2</th>\n",
       "      <td>economia</td>\n",
       "      <td>Presidente de petroleira russa morre ao cair d...</td>\n",
       "      <td>MOSCOU (Reuters) – Ravil Maganov, presidente d...</td>\n",
       "      <td>01/09/2022 16:51</td>\n",
       "      <td>22</td>\n",
       "      <td>1</td>\n",
       "    </tr>\n",
       "    <tr>\n",
       "      <th>3</th>\n",
       "      <td>economia</td>\n",
       "      <td>PPI da Alemanha avança 37,2% em julho na compa...</td>\n",
       "      <td>O índice de preços ao produtor (PPI, na sigla ...</td>\n",
       "      <td>19/08/2022 07:19</td>\n",
       "      <td>72</td>\n",
       "      <td>1</td>\n",
       "    </tr>\n",
       "    <tr>\n",
       "      <th>4</th>\n",
       "      <td>economia</td>\n",
       "      <td>Problema em traje de cosmonauta russo força fi...</td>\n",
       "      <td>Por Joey Roulette WASHINGTON (Reuters) – Um do...</td>\n",
       "      <td>17/08/2022 16:47</td>\n",
       "      <td>78</td>\n",
       "      <td>1</td>\n",
       "    </tr>\n",
       "  </tbody>\n",
       "</table>\n",
       "</div>"
      ],
      "text/plain": [
       "  Categoria                                             Titulo  \\\n",
       "0  economia  Investimento Direto no País soma US$ 4,483 bi ...   \n",
       "1  economia  ‘Não queremos a chinesada entrando aqui quebra...   \n",
       "2  economia  Presidente de petroleira russa morre ao cair d...   \n",
       "3  economia  PPI da Alemanha avança 37,2% em julho na compa...   \n",
       "4  economia  Problema em traje de cosmonauta russo força fi...   \n",
       "\n",
       "                                           Descrição              Data  \\\n",
       "0  Os Investimentos Diretos no País (IDP) somaram...  26/08/2022 10:23   \n",
       "1  O ministro da Economia, Paulo Guedes, afirmou ...  26/08/2022 17:08   \n",
       "2  MOSCOU (Reuters) – Ravil Maganov, presidente d...  01/09/2022 16:51   \n",
       "3  O índice de preços ao produtor (PPI, na sigla ...  19/08/2022 07:19   \n",
       "4  Por Joey Roulette WASHINGTON (Reuters) – Um do...  17/08/2022 16:47   \n",
       "\n",
       "   Pagina  Target  \n",
       "0      47       2  \n",
       "1      46       0  \n",
       "2      22       1  \n",
       "3      72       1  \n",
       "4      78       1  "
      ]
     },
     "execution_count": 23,
     "metadata": {},
     "output_type": "execute_result"
    }
   ],
   "source": [
    "train = pd.read_excel(filename, sheet_name = 'Treinamento')\n",
    "train.head(5)"
   ]
  },
  {
   "cell_type": "code",
   "execution_count": 24,
   "metadata": {},
   "outputs": [
    {
     "data": {
      "text/html": [
       "<div>\n",
       "<style scoped>\n",
       "    .dataframe tbody tr th:only-of-type {\n",
       "        vertical-align: middle;\n",
       "    }\n",
       "\n",
       "    .dataframe tbody tr th {\n",
       "        vertical-align: top;\n",
       "    }\n",
       "\n",
       "    .dataframe thead th {\n",
       "        text-align: right;\n",
       "    }\n",
       "</style>\n",
       "<table border=\"1\" class=\"dataframe\">\n",
       "  <thead>\n",
       "    <tr style=\"text-align: right;\">\n",
       "      <th></th>\n",
       "      <th>Categoria</th>\n",
       "      <th>Titulo</th>\n",
       "      <th>Descrição</th>\n",
       "      <th>Data</th>\n",
       "      <th>Pagina</th>\n",
       "      <th>Target</th>\n",
       "    </tr>\n",
       "  </thead>\n",
       "  <tbody>\n",
       "    <tr>\n",
       "      <th>0</th>\n",
       "      <td>economia</td>\n",
       "      <td>Bolsonaro cita 1964 e ano do impeachment de Di...</td>\n",
       "      <td>Antes de sair do Palácio da Alvorada nesta qua...</td>\n",
       "      <td>07/09/2022 09:40</td>\n",
       "      <td>8</td>\n",
       "      <td>1</td>\n",
       "    </tr>\n",
       "    <tr>\n",
       "      <th>1</th>\n",
       "      <td>economia</td>\n",
       "      <td>Investidores não veem guinada do Fed e se prep...</td>\n",
       "      <td>Por Gertrude Chavez-Dreyfuss NOVA YORK (Reuter...</td>\n",
       "      <td>24/08/2022 08:10</td>\n",
       "      <td>57</td>\n",
       "      <td>1</td>\n",
       "    </tr>\n",
       "    <tr>\n",
       "      <th>2</th>\n",
       "      <td>economia</td>\n",
       "      <td>Ministro diz que enviou estudo do Porto de San...</td>\n",
       "      <td>O ministro da Infraestrutura, Marcelo Sampaio,...</td>\n",
       "      <td>01/09/2022 13:06</td>\n",
       "      <td>24</td>\n",
       "      <td>0</td>\n",
       "    </tr>\n",
       "    <tr>\n",
       "      <th>3</th>\n",
       "      <td>economia</td>\n",
       "      <td>Missão da AIEA na usina de Zaporizhzhia “pode ...</td>\n",
       "      <td>KIEV (Reuters) – A missão de monitoramento da ...</td>\n",
       "      <td>01/09/2022 08:30</td>\n",
       "      <td>26</td>\n",
       "      <td>1</td>\n",
       "    </tr>\n",
       "    <tr>\n",
       "      <th>4</th>\n",
       "      <td>economia</td>\n",
       "      <td>Bancos admitem ‘licença’ de R$ 70 bilhões</td>\n",
       "      <td>Representantes de bancos e fundos de investime...</td>\n",
       "      <td>16/08/2022 17:00</td>\n",
       "      <td>82</td>\n",
       "      <td>2</td>\n",
       "    </tr>\n",
       "  </tbody>\n",
       "</table>\n",
       "</div>"
      ],
      "text/plain": [
       "  Categoria                                             Titulo  \\\n",
       "0  economia  Bolsonaro cita 1964 e ano do impeachment de Di...   \n",
       "1  economia  Investidores não veem guinada do Fed e se prep...   \n",
       "2  economia  Ministro diz que enviou estudo do Porto de San...   \n",
       "3  economia  Missão da AIEA na usina de Zaporizhzhia “pode ...   \n",
       "4  economia          Bancos admitem ‘licença’ de R$ 70 bilhões   \n",
       "\n",
       "                                           Descrição              Data  \\\n",
       "0  Antes de sair do Palácio da Alvorada nesta qua...  07/09/2022 09:40   \n",
       "1  Por Gertrude Chavez-Dreyfuss NOVA YORK (Reuter...  24/08/2022 08:10   \n",
       "2  O ministro da Infraestrutura, Marcelo Sampaio,...  01/09/2022 13:06   \n",
       "3  KIEV (Reuters) – A missão de monitoramento da ...  01/09/2022 08:30   \n",
       "4  Representantes de bancos e fundos de investime...  16/08/2022 17:00   \n",
       "\n",
       "   Pagina  Target  \n",
       "0       8       1  \n",
       "1      57       1  \n",
       "2      24       0  \n",
       "3      26       1  \n",
       "4      82       2  "
      ]
     },
     "execution_count": 24,
     "metadata": {},
     "output_type": "execute_result"
    }
   ],
   "source": [
    "test = pd.read_excel(filename, sheet_name = 'Teste')\n",
    "test.head(5)"
   ]
  },
  {
   "cell_type": "markdown",
   "metadata": {},
   "source": [
    "___\n",
    "### Montando um Classificador Naive-Bayes\n",
    "\n",
    "Considerando apenas as mensagens da planilha Treinamento, ensine  seu classificador."
   ]
  },
  {
   "cell_type": "markdown",
   "metadata": {},
   "source": [
    "Tratamento de base de treinamento: Limpando o texto e separação da base com base no Target"
   ]
  },
  {
   "cell_type": "code",
   "execution_count": 25,
   "metadata": {},
   "outputs": [],
   "source": [
    "#Limpando a base Train\n",
    "\n",
    "train.fillna(\"\",inplace=True)\n",
    "train['Descrição'] = train['Descrição'].apply(cleanup)\n",
    "train['Titulo'] = train['Titulo'].apply(cleanup)\n",
    "\n",
    "#Separando as noticias pela target\n",
    "\n",
    "not_positiva = train.loc[train['Target'] == 'Positiva']\n",
    "not_neutra = train.loc[train['Target'] == 'Neutra']\n",
    "not_negativa = train.loc[train['Target'] == 'Negativa']\n"
   ]
  },
  {
   "cell_type": "markdown",
   "metadata": {},
   "source": [
    "Classificando de acordo com o título da notícia:"
   ]
  },
  {
   "cell_type": "code",
   "execution_count": 102,
   "metadata": {},
   "outputs": [
    {
     "name": "stdout",
     "output_type": "stream",
     "text": [
      "['investimento', 'direto', 'país', 'soma', 'us', 'bi', 'maio', 'mostra', 'bc', 'taxa', 'desemprego', 'homens', 'mulheres', 'tri', 'alta', 'emprego', 'deve', 'desacelerar', 'reduzir', 'pressão', 'sobre', 'salários', 'diz', 'fed', 'ipca', 'cede', 'sobe', 'aponta', 'focus', 'atividade', 'econômica', 'nordeste', 'trimestre', 'café', 'arábica', 'pico', 'meses', 'ice', 'açúcar', 'cai', 'agosto', 'menor', 'série', 'alimentos', 'continuam', 'anec', 'eleva', 'previsão', 'embarque', 'milho', 'brasil', 'pode', 'ter', 'recorde', 'preço', 'gasolina', 'semana', 'seguida', 'afirma', 'anp', 'igpm', 'deflação', 'após', 'julho', 'fgv', 'correção', 'ante', 'fica', 'ibge', 'gasto', 'habitação', 'semanas', 'projeta', 'diesel', 'postos', 'recua', 'vez', 'desde', 'ticket', 'log', 'rumo', 'reporta', 'lucro', 'líquido', 'r', 'milhões', 'rio', 'grande', 'sul', 'conclui', 'plantio', 'trigo', 'ematerrs', 'alerta', 'efeitos', 'chuva', 'cemig', 'volta', 'origens', 'foca', 'investimentos', 'minas', 'gerais', 'pib', 'confirma', 'sustentação', 'ministério', 'bndes', 'pagou', 'dividendos', 'complementares', 'stonex', 'soja', 'mi', 't', 'reduz', 'verão', 'queda', 'energia', 'inflação', 'cairá', 'presidente', 'projeto', 'lei', 'orçamentária', 'prevê', 'demanda', 'global', 'petróleo', 'produção', 'avançam', 'milhão', 'bpd', 'junho', 'jodi', 'dívida', 'pública', 'federal', 'tesouro', 'vê', 'cenário', 'positivo', 'magazine', 'luiza', 'prejuízo', 'construtoras', 'veem', 'crescimento', 'ano', 'consumo', 'gnv', 'política', 'combustíveis', 'líquidos', 'preocupa', 'campos', 'neto', 'único', 'revisões', 'cima', 'colheita', 'perto', 'final', 'produtor', 'cepea', 'chegar', 'locaweb', 'ajustado', 'vendas', 'shoppings', 'crescem', 'dia', 'pais', 'abrasce', 'caixa', 'começa', 'oferecer', 'financiamento', 'casa', 'verde', 'amarela', 'anos', 'paraná', 'inicia', 'área', 'deral', 'vai', 'quase', 'reduções', 'custa', 'média', 'transporte', 'passageiros', 'revela', 'medo', 'escassez', 'gás', 'inverno', 'desencadeia', 'febre', 'carvão', 'berlim', 'estimativa', 'passa', 'fitch', 'atribui', 'rating', 'b', 'cidade', 'janeiro', 'perspectiva', 'estável', 'subir', 'safra', 'alcançará', 'toneladas', 'provavelmente', 'elevar', 'projeção', 'próximo', 'rti', 'embarques', 'carne', 'bovina', 'têm', 'recordes', 'dispara', 'suape', 'lança', 'chamada', 'instalação', 'hidrogênio', 'meio', 'campanha', 'governo', 'apresenta', 'estudo', 'ipea', 'exaltar', 'auxílio', 'bolsonaro', 'sanciona', 'programa', 'renovação', 'frota', 'rodoviária', 'vetos', 'xp', 'preços', 'administrados', 'voltam', 'deste', 'conab', 'setor', 'serviços', 'puxa', 'geração', 'empregos', 'caged', 'público', 'superávit', 'endividamento', 'prévia', 'condições', 'frança', 'pioram', 'novamente', 'recorrente', 'petrobras', 'anuncia', 'redução', 'asfalto', 'refinarias', 'corrigir', 'imposto', 'renda', 'custar', 'bilhões', 'camex', 'formaliza', 'permanente', 'tarifa', 'externa', 'comum', 'prometer', 'aval', 'guedes', 'tributos', 'combustível', 'central', 'faz', 'corte', 'consecutivo', 'indicação', 'margem', 'baixar', 'melhor', 'execução', 'plano', 'pausa', 'juros', 'poços', 'plataformas', 'operação', 'eua', 'caem', 'yara', 'novo', 'amônia', 'abates', 'bovinos', 'suínos', 'frango', 'baixa', 'aproxima', 'interno', 'paridade', 'internacional', 'abicom', 'ferrovia', 'nortesul', 'cresce', 'semestre', 'crise', 'energética', 'alemã', 'agrava', 'baixo', 'nível', 'reno', 'ocdeaie', 'apoio', 'fósseis', 'dobrou', 'drogaria', 'paulo', 'acelera', 'abrir', 'lojas', 'dois', 'ministro', 'trabalhará', 'benefício', 'caminhoneiro', 'taxista', 'perpetuar', 'prejudicada', 'entrega', 'adubos', 'agroconsult', 'teles', 'prometem', 'repassar', 'icms', 'consumidor', 'novembro', 'bens', 'industriais', 'caiu', 'saltar', 'seca', 'ciclo', 'passado', 'arroz', 'leste', 'china', 'atingida', 'forte', 'calor', 'projetos', 'concessão', 'rodovias', 'avançados', 'preveem', 'anac', 'aprova', 'recomposição', 'equilíbrio', 'econômicofinanceiro', 'contrato', 'galeão', 'ifi', 'robusta', 'atinge', 'máxima', 'turbulência', 'economia', 'passar', 'rápido', 'reitera', 'europa', 'planeja', 'russo', 'invasão', 'ucrânia', 'assina', 'decreto', 'qualifica', 'aeroporto', 'relicitação', 'balança', 'comercial', 'podemos', 'emergir', 'potência', 'digital', 'alimentar', 'ambiental', 'estoques', 'barris', 'doe', 'cobra', 'operadoras', 'repasse', 'maior', 'produtividade', 'gerar', 'firjan', 'jet', 'skis', 'games', 'whey', 'veja', 'itens', 'cujo', 'importação', 'zerado', 'opep', 'mantém', 'oferta', 'edital', 'comprar', 'créditos', 'carbono', 'dólar', 'dado', 'caminha', 'semanal', 'contratos', 'futuros', 'bruto', 'sobem', 'etanol', 'recuam', 'despacho', 'devolução', 'antecipada', 'debate', 'candidatos', 'evitam', 'falar', 'mercado', 'respira', 'aliviado', 'agrícola', 'importante', 'depender', 'adubo', 'importado', 'feira', 'aviação', 'conta', 'avião', 'elon', 'musk', 'pacheco', 'buscar', 'soluções', 'piso', 'enfermagem', 'perante', 'stf', 'manobra', 'liberar', 'orçamento', 'secreto', 'ibama', 'renova', 'licença', 'angra', 'seis', 'lula', 'acena', 'reajuste', '‘gradual’', 'servidores', 'públicos', 'ganha', 'rs', 'avançar', 'emater', 'brent', 'barril', 'valegás', 'recebe', 'benefícios', 'nesta', 'sextafeira', 'itaúsa', 'futuro', 'rever', 'teto', 'promover', 'reformas', 'abdib', 'pretende', 'aumentar', 'tributação', 'determina', 'compensação', 'perdas', 'mg', 'rn', 'ac', 'mil', 'deputado', 'lista', 'todos', 'segmentos', 'indústria', 'cresceram', 'johnson', 'trocar', 'talco', 'bebê', 'pó', 'base', 'amido', 'sicoob', 'liberou', 'empréstimos', 'pronampe', 'espera', 'cpfl', 'aumenta', 'bilhão', 'claro', 'novos', 'planos', 'póspagos', 'dados', 'chegada', 'g', 'ibcbr', 'esperado', 'indica', 'expansão', 'verdade', 'bancos', 'perdem', 'dinheiro', 'pix', 'brasileiros', 'medir', 'impacto', 'mudanças', 'climáticas', 'negócios', 'firma', 'sexta', 'consecutiva', 'chicago', 'opera', 'abaixo', 'fevereiro', 'prépandemia', 'paraguaios', 'abastecem', 'carro', 'massa', 'circulação', 'francês', 'condição', 'rebaixada', 'franceagrimer', 'produtora', 'fs', 'receita', 'revenda', 'espaço', 'barata', 'nota', 'fiscal', 'paulista', 'libera', 'resgate', 'região', 'américa', 'latina', 'caribe', 'perder', 'fôlego', 'crescer', 'cepal', 'indicador', 'antecedente', 'patamar', 'nove', 'lightmarinho', 'líquida', 'controlada', 'acciona', 'injetar', 'raízen', 'orgânica', 'descarta', 'aquisições', 'ceo', 'comparação', 'anual', 'keppel', 'shipyard', 'construção', 'plataforma', 'p', 'alemanha', 'primeira', 'mundial', 'trens', 'aumento', 'garante', 'grãos', 'eldorado', 'registra', 'aguia', 'fertilizantes', 'prepara', 'mina', 'fosfato', 'ativam', 'cidades', 'vitória', 'florianópolis', 'palmas', 'comércio', 'contrata', 'trabalhadores', 'tim', 'divulgam', 'cobertura', 'inicial', 'curitiba', 'goiânia', 'salvador', 'total', 'bp', 'desistiram', 'consórcio', 'explorar', 'amapá', 'estados', 'tentam', 'estancar', 'última', 'quinze', 'capitais', 'poderão', 'dias', 'prazo', 'ativação', 'sinal', 'cair', 'alívio', 'agritel', 'século', 'virar', 'polo', 'alternativo', 'ecommerce', 'industrial', 'atividades', '°', 'impulsionam', 'fluxo', 'cambial', 'ultrapassar', 'tardio', 'análise', 'vinci', 'fundo', 'agronegócio', 'covid', 'vacina', 'brasileira', 'eficaz', 'contra', 'todas', 'variantes', 'primeiro', 'leilão', 'blocos', 'présal', 'acontecerá', 'brechós', 'abertos', 'empreendedor', 'individual', 'fórum', 'econômico', 'destaca', '‘impactos', 'inesperados’', 'ficam', 'estáveis', '‘bndes', 'devendo', 'pedalada', 'ainda', 'quero', 'despedalar’', 'brasileiro', 'negocia', 'atração', 'fábrica', 'chips', 'samsung', 'motos', 'fenabrave', 'lares', 'igual', 'mês', 'abras', 'momento', '‘baixar', 'guarda’', '‘fechamos', 'cerco', 'levem', 'clientes’', 'fausto', 'ribeiro', 'bb', 'câmara', 'mp', 'cria', 'incentivo', 'pf', 'busca', 'apreensão', 'multiplan', 'participavam', 'grupo', 'pregava', 'golpe', 'abitrigo', 'acima', 'bradesco', 'compra', 'instituição', 'financeira', 'méxico', 'ong', 'ecológica', 'pede', 'multinacional', 'francesa', 'carrefour', 'esforços', 'volkswagen', 'assinatura', 'caminhões', 'modelo', 'cbdc', 'depósitos', 'tokenizados', 'estimula', 'crédito', 'moderação', 'diminui', 'pmi', 'confiança', 'ponto', 'pontos', '‘novo', 'présal’', 'litoral', 'superintendência', 'cade', 'negócio', 'itaú', 'unibanco', 'corretora', 'avenue', 'lance', 'arremata', 'bloco', 'campo', 'marte', 'estimada', 'eleições', 'pedem', 'ativismo', 'tecnológico', 'cinco', 'propostas', 'fazer', 'político', 'digitalmente', 'decente', 'potencial', 'clima', 'ajudar', 'datagro', 'revolução', 'pagamentos', 'intenção', 'famílias', 'cnc', 'abre', 'vagas', 'formais', 'trabalho', 'aqua', 'capital', 'adquire', 'fatia', 'solubio', 'ampliar', 'bioinsumos', 'sony', 'aumentará', 'playstation', 'selic', 'fim', 'permanece', 'muffato', 'quer', 'usar', 'makro', '‘sustentável’', 'corrida', 'algodão', 'diante', 'agricultores', 'replantar', 'culturas', 'ipcs', 'quadri', 'setembro', 'recuar', 'baixamos', 'ipi', 'vamos', 'levar', 'zero', 'reindustrializar', 'encerrar', 'índices', 'extrema', 'pobreza', 'rabobank', 'déficit', 'investidor', 'estrangeiro', 'bolsa', 'hoje', 'consulta', 'restituição', 'csn', 'jalles', 'machado', 'bridgestone', 'bahia', 'citrusbr', 'suco', 'laranja', 'seguirão', 'baixos', 'branco', 'atingir', 'sete', 'pobres', 'metade', 'agregada', 'ceder', 'ictineo', 'entrar', 'contas', 'digitais', 'aramco', 'salta', 'temores', 'despenca', 'pessoa', 'física', 'jurídica', 'empata', 'pagamento', 'débito', 'três', 'anteriores', 'grupos', 'pesquisados', 'open', 'finance', 'mundo', 'conectado', 'ny', 'valorização', 'm', 'resultado', 'analistas', 'melhoram', 'previsões', 'ebitda', 'defesa', 'lidera', 'verbas', 'estoque', 'trilhões', 'revisa', 'argentina', 'automotivo', 'estimular', 'exportações', 'agritech', 'fecha', 'parceria', 'lavoro', 'distribuição', 'potássio', 'estuda', 'regras', 'muda', 'entendimento', 'cobrança', 'itbi', 'agropalma', 'retomará', 'biodiesel', 'pará', 'even', 'mato', 'grosso', 'imea', 'mínima', 'recupera', 'ibovespa', 'flerta', 'varejo', 'maiores', 'altas', 'tecnisa', 'indicados', 'acionistas', 'minoritários', 'eleitos', 'conselho', 'feijão', 'abate', 'avanço', 'exportação', 'supera', 'sampaio', 'satisfeitos', 'limite', 'piora', 'primário', 'virou', 'ameaça', 'maquininhas', 'cartão', 'aena', 'diretora', 'produtos', 'químicos', 'abiquim', 'empresas', 'profissional', 'ccr', 'procura', 'casas', 'bairros', 'nobres', 'dobra', 'bovino', 'bruta', 'mt', 'nova', 'atento', 'período', 'menos', 'destaque', 'movimentação', 'portuário', 'colnago', 'ploa', 'reserva', 'concursos', 'etanolcepea', 'anidro', 'hidratado', 'usinas', 'paulistas', 'fipe', 'arrefecimento', 'alimentação', 'ipc', 'câmbio', 'site', 'investir', 'venda', 'veículos', 'powell', 'batalha', '“algum', 'tempo”', 'dor', 'bank', 'of', 'america', 'turbina', 'envia', 'ddgs', 'vietnã', 'imóveis', 'sp', 'secovi', 'traders', 'buscam', 'recertificar', 'grandes', 'volumes', 'médio', 'chega', 'confira', 'ranking', 'tebet', 'jn', '“não', 'vou', 'impedir', 'órgãos', 'fiscalização', 'governo”', 'ajuda', 'reservas', 'solo', 'mb', 'agro', 'pboc', 'flexibiliza', 'forma', 'drástica', 'avalia', 'economics', 'mensal', 'carnes', 'suína', 'gestão', 'diferente', 'dilma', 'rousseff', 'recuperar', '‘vamos', 'avaliar', 'possível', 'ajuste', 'setembro’', 'extra', 'aprovar', 'reforma', 'tributária', 'eleição', 'acreditar', 'acabar', 'breve', 'caramuru', 'empresa', 'originação', 'incerteza', 'abril', 'senado', 'csll', 'corretoras', 'texto', 'sanção', 'comemora', 'falado', '‘boa', 'notícia’', 'vencer', 'haverá', 'regra', '‘sólida', 'permanente’', 'padilha', 'coreia', 'japão', 'realizam', 'exercício', 'foco', 'norte', 'relatos', 'geadas', 'sudoeste', 'pátria', 'agronegócios', 'surto', 'sarampo', 'atribuído', 'reuniões', 'seita', 'zimbábue', 'mata', 'crianças', 'avança', 'umidade', 'ideal', 'empresarial', 'fecham', 'econômicos', 'fracos', 'opção', 'descarbonizar', 'cadeias', 'cni', 'rejeição', 'seguido', 'ciro', 'pesquisa', 'btgfsb', 'preocupações', 'chinesa', 'primeiroministro', 'japonês', 'kishida', 'questões', 'igreja', 'concede', 'indulto', 'executivo', 'combater', 'elege', 'conselheiros', 'incluindo', 'alinhados', 'número', 'negros', 'brancos', 'prórussos', 'próucranianos', 'habitantes', 'divididos', '‘inflação', 'bateu', 'melhorar’', 'acionará', 'agu', 'defender', 'aliados', 'atacam', 'aquisição', 'amplia', 'insumos', 'agrícolas', 'pr', 'sc', 'putin', 'limitar', 'acusasões', 'ocidente', 'indígena', 'nomeada', 'suprema', 'canadá', '“momento', 'histórico”', 'cia', 'processada', 'suposta', 'espionagem', 'advogados', 'jornalistas', 'encontraram', 'assange', 'petroleira', 'russa', 'morre', 'janela', 'hospital', 'dizem', 'fontes', 'ppi', 'problema', 'traje', 'cosmonauta', 'força', 'caminhada', 'espacial', 'assinam', 'acordo', 'fornecimento', 'trasatlântico', '‘corrida’', 'saúde', 'educação', 'concentram', 'despesa', 'discricionária', '‘caubóis’', 'abrem', 'vício', 'suicídio', 'suspeito', 'esfaqueamento', 'logo', 'prisão', 'enfrenta', 'pior', 'safras', 'sofrem', 'agência', 'autoriza', 'duas', 'vacinas', 'direcionadas', 'subvariantes', 'ômicron', 'rússia', 'bombardeiros', 'patrulham', 'mar', 'guaranys', 'depende', 'revisão', 'gastos', 'infraestrutura', 'aprovam', 'atos', 'prol', 'reestruturação', 'carreira', 'xi', 'viagem', 'exterior', 'encontro', 'biden', 'jornal', 'aberto', 'cortes', 'linha', 'saudita', 'assaí', 'dá', '‘banho', 'glamour’', 'antigo', 'hiper', 'autoridades', 'taiwanesas', '“obstinadas”', 'independência', 'imensa', 'fortuna', 'rainha', 'elizabeth', 'ii', 'lago', 'sofre', 'afeta', 'plantações', 'indonésia', 'estende', 'isenção', 'óleo', 'palma', 'outubro', 'tecnologia', 'porsche', 'cotada', 'antes', 'segundo', 'pressionou', 'fabricantes', 'celulares', 'entregarem', 'modelos', '‘europeus', 'dificuldade', 'enorme', 'lidar', 'inflação’', 'semicondutores', 'cientistas', 'encontram', 'espécie', 'pássaro', 'extremo', 'chile', 'motorista', 'tomar', 'multa', 'cadastrar', 'portaria', 'regulamenta', 'transação', 'tributários', 'chefe', 'onu', 'eletricidade', 'usina', 'nuclear', 'pertence', 'tombini', 'sociedade', 'mão', 'estabilidade', 'precisa', 'priorizar', 'acende', 'alemãs', 'rali', 'obriga', 'divulgarem', 'dúvidas', 'faixa', 'histórico', 'participarão', 'cúpula', 'atingimos', 'porcentual', 'pessoal', 'relação', 'agenda', 'impede', 'comparecer', 'funeral', 'gorbachev', 'kremlin', '‘nenhuma', 'planeta', 'gastos’', 'lira', 'higiene', 'economizar', 'hora', 'banho', 'adp', 'explica', 'mudança', 'metodologia', 'privado', 'premiê', 'reino', 'unido', 'mostram', 'contrários', 'tentativa', 'escócia', 'philips', 'surpreende', 'saída', 'presidenteexecutivo', 'vídeo', 'viral', 'gera', 'polêmica', 'votação', 'constituição', 'anapetro', 'tcu', 'questiona', 'contratação', 'naviosplataforma', 'italiano', 'centro', 'visa', '“populismo”', 'esquerda', 'direita', 'trump', 'declara', 'culpado', 'fraude', 'coloca', 'história', 'aprovada', 'prioridade', 'escolas', 'russas', 'drasticamente', 'jogos', 'guerra', 'oriente', 'ha', '“superhomem', 'criança”', 'chileno', 'durante', 'discurso', 'viracopos', 'propõe', 'voltar', 'pagar', 'evitar', 'home', 'office', 'consolidado', 'elogia', 'ideia', 'presença', 'aiea', 'zaporizhzhia', '‘está', 'tudo', 'destruído’', 'sobreviventes', 'enchentes', 'paquistão', 'chanceler', 'promete', 'apoiar', '“pelo', 'tempo', 'preciso”', 'ocde', 'portugal', '€', 'repercussãoautoridades', 'brasileiras', 'manifestam', 'pesar', 'morte', 'steve', 'bannon', 'indiciado', 'lavagem', 'conspiração', 'caso', 'muro', 'fronteira', 'datas', 'importantes', 'vida', 'britânica', 'datafolha', 'alemanhasp', 'metamorfose', 'bemobi', 'fintech', 'concessionárias', 'países', 'emergentes', 'honda', 'lg', 'anunciam', 'baterias', 'zelenskiy', 'resposta', 'poderosa', 'véspera', 'departamento', 'justiça', 'revelar', 'evidências', 'apoiaram', 'obstáculo', 'drumwave', 'serviço', 'inaugura', 'pessoais', 'memória', 'atentado', 'parece', 'distante', 'antiga', 'olímpica', 'munique', 'investiga', 'ceos', 'imobiliárias', 'estatais', '‘graves', 'violações’', 'partida', 'navio', 'porto', 'ucraniano', 'adiada', 'devido', 'mau', 'homem', 'bater', 'disparar', 'tiros', 'capitólio', '‘estamos', 'aqui', 'frase', 'mudar', 'tudo’', 'pra', 'alguém', 'síndrome', 'pânico', 'taiwan', 'contraataque', 'forças', 'chinesas', 'entrarem', 'território', 'fbi', 'interrogou', 'exadvogado', 'documentos', 'confidenciais', 'fonte', 'unidos', 'calculado', 'ism', 'pesquisas', 'proposta', 'congonhas', 'outros', 'aeroportos', 'leilões', 'quinta', 'equipe', 'escondeu', 'tensão', 'gigante', 'yandex', 'vende', 'comunicação', 'entretenimento', 'ue', 'meta', 'previsto', 'viaja', 'fmi', 'pauta', 'rock', 'in', 'proíbe', 'palcos', 'festival', 'luz', 'túnel', 'conflito', 'substitui', 'negro', 'revés', 'crimeia', 'barack', 'michelle', 'obama', 'inauguram', 'retratos', 'presidenciais', 'branca', 'marcelo', 'serfaty', 'deixa', 'administração', 'juíza', 'sinaliza', 'disposição', 'nomear', 'perito', 'especial', 'buscas', 'príncipe', 'charles', 'aposentadoria', 'peso', 'simbólico', 'viagens', 'leclerc', 'curte', 'férias', 'iate', 'reman', 'condicionada', 'iluminação', 'torre', 'eiffel', 'paris', 'desligada', 'homenagem', 'melhora', 'reescalonamento', 'cada', 'percebem', 'diferenças', 'tratamento', 'tailândia', 'acertam', 'cooperação', 'diretor', 'financeiro', 'bed', 'bath', 'beyond', 'york', 'importa', 'tanto', '–', 'pensam', 'citigroup', 'fechar', 'portas', 'banco', '“cidade”', 'suspensa', 'redor', 'prédio', 'dubai', 'dirigente', 'encaminhando', 'recessão', 'chaves', 'cadastradas', 'dobro', 'população', 'grave', 'onda', 'erdogan', 'discutiu', 'guterres', 'maneiras', 'tenta', 'resgatar', 'imobiliário', 'garantias', 'títulos', 'confrontos', 'iraque', 'clérigo', 'sadr', 'deixam', 'mortos', 'c', 'rejeita', 'imagem', 'mira', 'cliente', 'heringer', 'fraudes', 'podem', 'impactar', 'confirmadas', 'trás', 'apoiadores', 'encerrem', 'protestos', 'bagdá', 'violentos', 'tire', 'varíola', 'macacos', 'ruto', 'aparece', 'frente', 'contagem', 'votos', 'presidencial', 'quênia', 'entregar', 'enfrentar', 'indiciamento', 'últimos', 'reatores', 'desconectados', 'rede', 'incêndio', 'índia', 'contraofensiva', 'ocidentais', 'euros', 'militar', 'empresária', 'orienta', 'demissão', 'eleitores', 'mpt', 'trimestral', 'abertura', 'jolts', 'privadas', 'saneamento', 'temem', 'retrocesso', 'marco', 'legal', 'boris', 'próxima', 'líder', 'truss', '“o', 'certo”', 'mpf', 'brasília', 'desfile', 'cívicomilitar', 'confundido', 'ato', 'políticopartidário', 'macron', 'confiante', 'atendente', 'call', 'center', 'escritório', 'beatriz', 'machnick', 'lópez', 'obrador', 'tmec', 'disputa', 'pedidos', 'auxíliodesemprego', 'vizinho', 'cazaquistão', 'interrompe', 'armas', 'interanual', 'projéteis', 'foguetes', 'minério', 'ferro', 'portos', 'antaq', 'despacha', 'comboio', 'navios', 'sob', 'volume', 'preferencial', 'adaptada', 'variante', 'uso', 'nucleares', '“situações', 'emergência”', 'liz', 'abordar', 'problemas', 'imediatamente', 'ataque', 'alqaeda', 'integrantes', 'iemenitas', 'militares', 'explosões', 'atingem', 'celebra', 'principais', 'relatório', 'xinjiang', 'livro', 'bege', 'perspectivas', 'fracas', 'viram', 'página', 'retirada', 'afeganistão', 'britânico', 'harry', 'esposa', 'meghan', 'vão', 'ficar', 'sentimento', 'preliminar', 'quais', 'consequências', 'euro', '‘não', 'adianta', 'fechado', 'sala’', 'executiva', 'basf', 'bombardeio', 'civis', 'kharkiv', 'governador', 'desinformação', 'distorceu', 'conflitos', 'eclodem', 'trípoli', 'elevam', 'líbia', 'mandatos', 'mistura', 'biocombustível', 'ver', 'sustentado', 'controle', 'oms', 'cachorro', 'incomum”', 'instagram', 'multado', 'violação', 'privacidade', 'indústrias', 'antecipam', 'áfrica', 'suspende', 'aplicação', 'antidumping', 'irã', 'aceitará', 'inspeções', 'acordadas', 'pacto', 'sucessão', 'trono', 'terremoto', 'sichuan', 'pro', 'farmer', 'cingapura', 'barra', 'campeão', 'olímpico', 'competir', 'maconha', 'zona', 'estagnar', 'início', 'bce', 'louisiana', 'realoja', 'primeiros', 'refugiados', 'climáticos', 'tempestades', 'fazem', 'companhias', 'aéreas', 'cancelarem', 'cerca', 'voos', 'aniversário', 'adverte', '“preço', 'alto”', 'ipec', 'ação', 'conter', 'parte', 'impactou', 'tribunal', 'reconhece', 'mulher', 'trans', 'mãe', 'criança', 'nascida', 'transição', 'cita', 'exdiretor', 'segurança', 'twitter', 'documento', 'cancelar', 'azul', 'mianmar', 'suu', 'kyi', 'corrupção', 'secretário', 'argentino', 'visita', 'vizinhos', 'reforçar', 'reivindicação', 'malvinas', 'anatel', 'partir', 'segunda', 'armados', 'tomam', 'hotel', 'somália', 'cardeal', 'canadense', 'marc', 'ouellet', 'nega', 'acusações', 'agressão', 'sexual', 'irão', 'expandir', 'relações', 'bilaterais', 'relata', 'kcna', 'bálticos', 'querem', 'multiplicar', 'eólica', 'offshore', 'consumidores', 'desacelera', 'ampliam', 'apostas', 'aviões', 'carga', '“muito', 'perto”', 'ir', 'ucraniana', 'grossi', 'merrick', 'garland', 'réus', 'pacote', 'inclui', 'drones', 'vigilância', 'autoridade', 'maduro', 'embaixador', 'colômbia', 'retomada', 'decidirá', 'ipo', 'segundafeira', 'seguros', 'lideram', 'tiroteios', 'gangues', 'pesam', '“suécia', 'diferente”', 'temia', 'explosão', 'mesquita', 'prótaliban', 'jbs', 'nomeia', 'michael', 'koenig', 'direção', 'compliance', 'comitê', 'líderes', 'comunidade', 'andina', 'adesão', 'venezuela', 'argentinos', 'abalados', 'cristina', 'kirchner', '“mensagem', 'ódio”', 'pink', 'floyd', 'faturar', 'libras', 'direitos', 'autorais', 'consolida', 'influência', 'infraestruturas', 'frases', 'marcantes', 'iii', 'síria', 'cabul', 'pfizer', 'menores', 'inspetores', 'aproximam', 'missão', 'acidente', 'expedição', 'papelão', 'ondulado', 'empapel', 'expectativas', 'boca', 'negociações', 'iraniano', 'saga', 'investidores', 'reforçam', 'cautela', 'sinalizações', 'jackson', 'hole', 'conheça', 'ramsay', 'hunt', 'doença', 'justin', 'bieber', 'rir', 'bolsonaristas', 'entrevista', 'hamas', 'executam', 'palestinos', 'gaza', 'expremiê', 'paquistânes', 'khan', 'condenação', 'corta', 'taxas', 'empréstimo', 'decepção', 'dono', 'havan', 'defende', 'peste', 'africana', 'porcos', 'api', 'quanto', 'autorização', 'atuar', '‘mensageira’', 'parlamentares', 'chilenos', 'submetidos', 'testes', 'drogas', 'flex', 'saiba', 'temas', 'mágicos', 'flexibilizados', 'expresidente', 'atrair', 'empresários', 'polícia', 'armado', 'tentou', 'invadir', 'ohio', 'efeito', 'reprecificação', 'afetou', 'criptoativos', 'fala', 'compromisso', 'pressionar', 'básica', 'inundando', 'guiana', 'beneficiado', 'pretendem', 'iniciar', 'noites', 'exlíder', 'condenada', 'forçado', 'realizará', 'congresso', 'partido', 'comunista', 'juro', 'neste', 'zuckerberg', 'acorda', '‘soco', 'estômago’', 'empate', 'técnico', 'agradece', 'marinha', 'tensões', '“indescritível”', 'subsídios', 'drone', 'chinês', 'alertar', '“contramedidas', 'fortes”', 'permite', 'harvey', 'weinstein', 'recorra', 'estupro', 'advogado', 'disse', 'material', 'sigiloso', 'maralago', 'havia', 'sido', 'devolvido–ny', 'times', 'água', 'propriedade', 'privada', 'direito', 'humano', 'vicechanceler', 'moscou', '“cenário', 'chornobyl”', 'luta', 'fará', '‘sofrer', 'famílias’', 'derrota', 'cheney', 'inclinação', 'republicano', '‘trumpismo’', 'estado', 'encerra', 'exigência', 'máscara', 'quintafeira', 'corre', 'aliviar', 'correçãogenialquaest', 'janja', 'pouca', 'definição', 'voto', 'divulga', 'editado', 'sustenta', 'grávidas', 'procuram', 'desesperadamente', 'inundações', 'palco', 'espanha', 'morto', 'dezenas', 'feridos', 'policiais', 'arkansas', 'identificados', 'violenta', 'especialista', 'dicas', 'identificar', 'excesso', 'sangue', 'iene', 'cotação', 'gripe', 'tomate', 'vírus', 'espalha', 'sugerem', 'reação', 'ucranianos', 'kiev', 'acusam', 'bombardear', 'retomar', 'carteira', '‘é', 'cedo', 'concluir', 'chegou', 'pico’', 'mester', 'mykolaiv', 'acostumou', 'funcionam', 'urnas', 'eletrônicas', 'alcança', 'valor', 'pesos', 'informal', 'cuba', 'ilha', 'fghab', 'british', 'airways', 'dez', 'heathrow', 'março', 'exige', 'violência', 'armada', 'pp', 'desacelere', 'bostic', 'edita', 'regulamentar', 'consignado', 'beneficiários', 'instituto', 'oposição', '“nulo”', 'barroso', 'estabelece', 'profissionais', 'moradias', 'sindicatos', 'movimentos', 'sociais', 'protestam', 'especulação', 'reúnem', 'discutir', 'recursos', 'pediram', 'acesso', 'conversas', 'binance', 'investigação', 'jair', 'provocação', 'método', 'repete', '‘entende', 'nada’', '‘tudo’', 'combate', 'longo', 'continuar', 'subindo', 'mansueto', 'almeida', 'admite', 'gastar', 'pequena', 'memes', 'tiktok', 'horário', 'eleitoral', 'congressista', 'sombra', 'caubóis', 'atingiu', 'impasse', 'críticas', 'duras', 'republicanos', 'comício', 'caetano', 'veloso', 'felipe', 'recepção', 'primeiraministra', 'apesar', 'exercícios', 'leitura', 'interferência', 'reafirmar', 'unidade', 'frustrar', 'borrell', 'itália', 'impostos', 'restrição', 'imigração', 'yangtze', 'durar', 'ameaçando', 'complementar', 'chineses', 'condena', '“terrorismo', 'rússia”', 'conversa', 'nicarágua', 'prende', 'bispo', 'crítico', 'daniel', 'ortega', 'internautas', '“com', 'come', 'paga', 'aluguel”', 'aumentos', 'moderálos', 'marca', 'primeiradama', 'jill', 'testa', 'roubam', 'cena', 'presidenciáveis', 'oferece', 'impulsionar', 'detém', 'passarem', 'informações', 'saber', 'consegue', 'trazer', 'tropas', 'bósnia', 'instabilidade', 'radioativo', 'evitado', 'pouco', 'tamanho', 'armadas', 'polônia', 'investigam', 'substância', 'tóxica', 'responsável', 'peixes', 'declarações', 'priorizará', 'ferroviário', 'essenciais', 'piorar', 'pandemia', 'warren', 'buffett', 'obtém', 'occidental', 'petroleum', 'oia', 'estima', 'oficial', 'palácio', 'buckingham', 'globalcaixin', 'cargo', 'composto', 'iva', 'apple', 'dispositivos', 'cadeia', 'suprimentos', 'mig', 'mísseis', 'hipersônicos', 'transferidos', 'kaliningrado', 'mídia', 'trabalhando', 'restaurar', 'discutiram', 'próximos', 'passos', 'agora', 'cme', 'ata', 'chance', 'pb', 'perderam', 'papa', '“desastre', 'nuclear”', 'latinoamericanos', 'apoiam', 'promotor', 'pedir', 'afetaram', 'pessoas', 'ministra', 'exiladas', 'ameaçadas', 'herança', 'viúvas', 'prisioneiros', 'sírios', 'hong', 'kong', 'adia', 'audiência', 'petição', 'liquidação', 'evergrande', 'básicos', 'caindo', 'perdoa', 'estudantis', 'norteamericanos', 'críticos', 'recomenda', 'abrangentes', 'estrutura', 'ativista', 'rei', 'ancião', 'caminho', 'escoar', 'convoca', 'províncias', 'apoiarem', 'medidas', 'necessário', 'vice', 'adiam', 'troca', 'órgão', 'discriminação', 'racial', 'façam', 'aborto', 'auditoria', 'intensifica', 'enriquecimento', 'urânio', 'morreram', 'enquanto', 'investe', 'renovável', 'biscarstens', 'bcs', 'devem', 'concentrar', 'manter', 'kherson', 'chave', 'reconquistar', 'ataca', 'sede', 'administrativa', 'donetsk', 'separatistas', 'reações', 'redes', 'refúgio', 'fogem', 'ocupação', 'serena', 'williams', 'n°', 'aérea', 'clínicas', 'batalhas', 'jurídicas', 'restrições', 'estocagem', 'deputados', 'obter', 'registros', 'financeiros', 'terras', 'valorizando', 'armazém', 'fogos', 'artifício', 'shopping', 'armênia', 'tênis', 'diamantes', 'último', 'egressos', 'ensino', 'superior', 'endividados', 'gazprom', 'paralisa', 'nord', 'stream', 'vazamento', 'encerrado', 'culpa', 'contabiliza', 'custo', 'responderá', 'turquia', 'funcionários', 'embaixada', 'subem', 'limitará', 'finanças', 'declaração', 'risco', 'radiológico', 'transitam', 'estreito', 'pelosi', 'onze', 'mortas', 'massacre', 'montenegro', 'promotora', 'marinheiros', 'impulso', 'oito', 'colombianos', 'morrem', 'letal', 'atacar', 'salman', 'rushdie', 'acusado', 'homicídio', 'flagrado', 'tenso', 'comandante', 'jatos', 'israelenses', 'atacaram', 'agências', '“jair', 'cashback”', 'entra', 'lugar', 'trending', 'topics', '‘superar', 'econômica’', 'shopee', 'operações', 'pensionistas', 'inss', 'devolver', 'peru', 'apreendido', 'toledo', 'odebrecht', 'lufthansa', 'cancela', 'sindicato', 'pilotos', 'anunciar', 'greve', 'radiação', 'normal', 'danos', 'causados', 'novas', 'bonitas', 'baseada', 'proporção', 'áurea', 'índice', 'reserve', 'diretrizes', 'sistemas', 'concorrer', 'presidência', 'monkeypox', 'eliminado', 'emenda', 'relator', 'ligada', 'políticas', 'públicas', 'veto', 'subtrai', 'exprefeito', 'detido', 'criticar', 'união', 'prefeitura', 'formalizam', 'acerto', 'contábil', 'posse', 'movidos', 'xangai', 'famosa', 'avenida', 'torno', 'evocam', 'memórias', 'chernobyl', 'genocídio', 'crime', 'difícil', 'provar', 'giuliani', 'alvo', 'criminal', 'definimos', 'altera', 'startups', 'focam', 'básico', 'garantir', 'juiz', 'inclua', 'denúncia', 'exfuncionário', 'custos', 'cpi', 'defendem', 'lançamento', 'antecipado', 'lote', 'franceses', 'sacrifícios', 'necessários', 'rigoroso', 'candidata', 'determinada', 'irlanda', 'resultados', 'loterias', 'desta', 'veta', 'saque', 'valealimentação', 'angola', 'excolônia', 'portuguesa', 'marcada', 'civil', 'hegemonia', 'poder', 'grécia', 'sai', 'supervisão', 'reforçada', 'honra', 'facilitar', 'frigorífico', 'redentor', 'agricultura', 'conseguiu', 'reverter', 'suspensão', 'dona', 'tinder', 'processo', 'antitruste', 'estabelecerá', 'burger', 'king', 'feita', 'mubadala', 'texas', 'trabalha', 'russos', 'mercados', 'respeita', 'exaiatolá', 'khomeini', 'minimiza', 'investigar', 'antecessor', 'estudantes', 'desaparecidos', 'construir', 'duto', 'girassol', 'receber', 'yuan', 'além', 'empire', 'state', 'salário', 'mínimo', '‘nunca', 'escutei', 'tanta', 'besteira', 'brasil’', 'coautor', 'antologia', 'comparecerá', 'cerimônia', 'colheitas', 'terceiro', 'choque', 'avizinha', 'ilan', 'goldfajn', 'citando', 'trocam', 'arredores', 'nacional', 'pobre', 'resolver', 'roberto', 'setubal', 'incêndios', 'florestais', 'diretorgeral', 'aneel', 'admiração', 'lady', 'di', 'continua', 'viva', 'windsor', 'vítimas', 'ataques', 'registrados', 'hipoteca', 'saltam', 'cunhado', 'comprou', 'mps', 'despesas', 'destravar', 'levantar', '‘barreiras’', 'alinhada', 'cooperativa', 'indígenas', 'conquista', 'tailandês', 'prayuth', 'mandato', 'senador', 'castro', 'cultura', 'técnicos', 'trabalham', 'trabalhador', 'corgis', 'mútuo', 'secretáriogeral', 'imediata', 'entender', '“rejeito”', 'ferido', 'elogiam', 'atuação', 'prolonga', 'gasdouto', 'vital', 'pendentes', 'beira', 'fome', '“último', 'alerta”', 'catástrofe', 'participar', 'restritivo', '‘por', 'algum', 'tempo’', 'william', 'família', 'londres', 'causar', 'falta', 'cerveja', 'asilo', 'denunciar', 'venceria', 'turno', 'genialquaest', 'reformista', 'traidor', 'legado', 'divide', 'democrata', 'questão', 'huawei', 'inglês', 'técnica', 'deixálo', 'lá', 'talibã', 'perfilde', '“rottweiler”', 'consorte', 'camilla', 'emerge', 'diana', 'protege', 'corporativo', 'desafio', 'importações', 'dólares', 'comissão', 'europeia', 'suficiente', 'bomba', 'propagação', '“monstruoso”', 'reabre', 'rodovia', 'bandeira', 'adicional', 'fusão', 'biotecnologia', 'americanas', 'illumina', 'grail', 'cratera', 'alto', 'colapso', 'ações', 'europeias', 'papéis', 'livre', 'cheque', 'jornais', 'linhadura', 'agressor', 'gasoduto', 'passando', '‘o', 'anos’', 'ricardo', 'lacerda', 'suspiram', 'aliviados', 'dívidas', 'universitárias', '“frágil”', 'exploração', 'hidrocarbonetos', 'febraban', 'ifs', 'investigadas', 'produto', 'dividida', 'vetar', 'turistas', 'julgar', 'vale', 'pena', 'rendimento', 'corrente', 'derruba', 'costa', 'califórnia', 'deverão', '‘emissões', 'zero’', 'esperar', 'exigem', 'depoimento', 'justificou', 'realiza', 'renováveis', 'prover', 'começaram', 'sentir', 'altos', 'nakagawa', 'boj', 'manutenção', 'acomodatícia', 'nunca', 'permitirão', 'adquira', 'arma', 'israel', 'inglaterra', 'discorda', 'define', 'salarial', 'miniatura', 'red', 'bull', 'max', 'verstappen', 'vendida', 'fotos', 'bceata', 'dirigentes', 'considerou', 'apropriado', 'sacas', 'associação', 'aleppo', 'estatal', 'fatores', 'avc', 'confirmam', 'residência', 'divulgue', 'mandado', '“espírito', 'compromisso”', 'esmagadoramente', 'mantêm', 'discordância', 'escudo', 'antimíssil', 'complicam', 'conciliação', 'complicada', 'níveis', 'banqueiros', 'seguem', 'montanhas', 'quadro', 'inflacionário', 'vivo', 'programação', 'tv', 'católica', 'padre', 'conforme', 'repressão', 'moedas', 'nacionais', 'pistas', 'genética', '‘águaviva', 'imortal’', 'enfrentam', 'social', 'poucos', 'quilômetros', 'ilhas', 'vivem', 'alheias', 'destacar', 'vitórias', 'pedido', 'camilo', 'guevara', 'filho', '‘che’', 'considerável', 'adiando', 'pontosbase', 'focado', '“aceitável”', 'funções', 'rico', 'gastará', 'abe', 'êxodo', 'rohingyas', 'critica', 'promoção', 'democracia', 'repórter', 'al', 'jazeera', 'morta', 'involuntariamente', 'europeu', 'aperto', 'condenam', 'comentários', 'palestino', 'holocausto', 'focará', 'desmatamento', 'corpo', 'luanda', 'tensa', 'cutrale', 'analista', 'suécia', 'comparece', 'extremadireita', 'posição', 'matar', 'ferir', 'elude', 'trumpistas', 'encaixam', '“definição', 'fascismo”', 'inspeção', '“alguns', 'dias”', 'ficará', 'termina', 'aumentam', '“monstro”', 'vazados', 'cambridge', 'analytica', 'discutirá', 'treinamento', 'ucranianas', 'restringir', 'vistos', 'apenas', 'sanções', 'impedem', 'funcionamento', 'compradores', 'paciência', 'imobiliária', 'siversk', 'fogo', 'cruzado', 'rodada', 'áreas', 'mineração', 'anm', 'vezes', 'banxico', 'próximas', 'decisões', 'dependem', 'lemgruber', 'pioneiro', 'pecuária', 'rj', 'acidentes', 'eletronuclear', 'negociar', 'coletivo', 'empregados', 'modifique', 'recusa', 'adiar', 'jihadismo', 'expande', 'sahel', 'oeste', '“questão', 'farsa”', 'bucha', 'mártir', 'enterra', 'exjornalista', 'safronov', 'condenado', 'traição', 'manda', 'condolências', '‘perda', 'irreparável’', 'vence', 'gp', 'bélgica', 'folga', 'liderança', 'fórmula', 'galão', 'melhores', 'melhoraram', 'habilidades', 'reator', 'desconecta', 'teste', 'filha', 'nacionalista', 'saudada', 'bate', 'ecoa', 'queixas', 'príncipes', 'balmoral', 'culpados', 'escritor', 'acusa', 'exagero', 'imagens', 'nasa', 'voo', 'foguete', 'lunar', 'motor', 'judiciário', 'maternidade', 'desejo', 'termine', '‘perigoso’', 'pegar', 'apontam', 'riscos', 'estará', 'funcionando', 'la', 'niña', 'diminuir', 'hemisfério', 'manterá', 'agressiva', 'relaxamento', 'monetário', 'encolheu', 'anunciado', 'inicialmente', 'lágrimas', 'fatalismo', 'povoado', 'marroquino', 'austrália', 'emite', 'salvar', 'supervulcão', 'políticos', 'boe', 'vender', 'corporativos', 'vicepresidente', 'paraguai', 'renunciar', 'acusação', 'situações', 'acelerar', 'goldman', 'sachs', 'gigantes', 'wall', 'street', 'miram', 'integração', 'blockchain', 'bill', 'gates', 'pergunta', 'responder', 'estrangeiros', 'antiinflação', 'reanima', 'fundos', 'verdes', 'nomes', 'diretoria', 'testemunha', 'viu', 'várias', 'transformações', 'aplicará', '‘urgentemente’', 'exadvogadogeral', 'flórida', 'sérgio', 'rial', 'assume', 'companhia', 'enviado', '“construtiva”', 'representa', '“séria', 'ameaça”', 'outono', 'frangos', 'abatidos', 'aviária', 'restabelecer', 'embaixadores', 'quatro', 'usuários', 'eletrônicos', 'distraem', 'gastam', 'viciados', 'reunião', 'desistirá', 'liberdade', 'afegã', 'reconstrói', 'dizimada', 'micro', 'pequenas', 'publica', 'boxe', 'boletim', 'regional', 'evolução', 'valecard', 'egípcia', 'monarca', 'conhecido', 'alckmin', 'discussão', 'trabalhista', '“hipocrisia”', 'kinzinger', 'snic', 'cimento', 'milhõeston', 'ferrogrão', 'seguir', 'protocolos', 'consultas', 'exclusivoirã', 'desistiu', 'algumas', 'demandas', 'alcançado', 'estrutural', 'emergência', 'une', 'decisão', 'moraes', 'esfaqueamentos', 'ousado', 'shabab', 'milícia', 'islâmica', 'desafia', 'enfraquecido', 'lançamentos', 'residências', 'cbic', 'devastar', 'mediterrâneo', 'oriental', 'máximo', 'coalizão', 'liberado', 'honre', 'acordos', 'von', 'der', 'leyen', '‘megafraude’', 'pdvsa', 'terça', 'pl', 'dutos', 'terminais', 'terceiros', 'competição', 'míssil', 'adiado', 'aviário', 'pega', 'pintos', 'invivo', 'ajudará', 'tarifas', 'energisa', 'paraíba', 'reivindica', 'ganhos', 'desocupada', 'diminuiu', 'totaliza', 'vistorias', 'declarado', 'eleito', 'cenas', 'caóticas', 'estruturação', 'fendt', 'exonerado', 'comando', 'secretaria', 'inter', 'reverte', 'quartafeira', 'disparam', 'tempestade', '‘bancos', 'centrais', 'tornar', 'ia’', 'brett', 'julgamento', 'nice', 'privatização', 'cbtu', '‘marcado’', 'obscurantismo', 'religioso', 'usadas', 'reprimir', 'publicações', 'pagas', 'influenciadores', 'papel', 'promessa', 'provas', 'adversários', '“fechar', 'igrejas”', 'amor', 'ódio', 'sinais', 'recuperação', 'indicam', 'fao', 'gileno', 'barreto', 'exalta', 'fornecêlas', 'dpmfi', 'mexicanas', 'enviadas', 'confronto', 'cartéis', 'copom', 'mudado', 'horizonte', 'fugirem', 'ofensiva', 'compulsório', 'bancário', 'porcentuais', 'agrogalaxy', 'áustria', 'queremos', 'chinesada', 'entrando', 'quebrando', 'fábricas’', 'noruega', 'pequeno', 'privação', 'sono', 'tornemos', 'egoístas', 'antissociais', 'abertas', 'desafios', '“novo', 'consignado”', 'centrosul', 'moagem', 'cana', 'indenizará', 'tomou', 'porco', 'engano', 'desembolsa', 'ipp', 'qualidade', 'fup', 'anular', 'assembleia', 'comunica', 'intimação', 'nomeação', 'caio', 'paes', 'andrade', 'faria', 'lima', '‘sobe', 'desce’', 'sessão', 'fraca', 'núcleo', 'ipcdi', 'ciência', 'mobilização', 'recenseador', 'atraso', 'terceira', 'quinto', 'poderia', 'ccee', 'igc', 'cometido', 'crimes', 'humanidade', 'desmanchando', 'miséria', 'jpmorgan', 'nominal', 'começar', 'apreender', 'agroquímicos', 'ilegais', 'importar', '‘em', 'internacional’', 'gestores', 'preocupação', 'fiscais', 'eleições–bofa', 'aporte', 'furnas', 'impacta', 'eletrobras', 'consultorias', 'discordam', 'ldo', 'medida', 'hapvida', 'czarnikow', 'excedente', 'parado', 'externo', 'local', 'afetado', 'doméstico', 'enviarão', 'conjunto', 'deveria', 'calcula', 'dieese', 'porque', 'caberia', 'receio', 'gargalo', 'logístico', 'saques', 'poupança', 'números', 'nubank', 'opõem', 'programam', '“panelaço”', 'sabatina', 'criação', 'braga', 'netto', 'recebeu', 'exército', 'perdeu', 'levantamento', 'quadrissemana', 'precatórios', 'normais', 'fecomerciosp', 'copa', 'embolsam', 'lucros', 'encomendas', 'compraram', 'bem', 'equilibrado', 'alertam', '‘demissões', 'erro', 'fundos’', 'crescente', 'gustavo', 'arnal', 'varejista', 'farpas', 'falha', 'lento', 'elevados', 'minnesota', 'rendimentos', 'abra', 'inquérito', 'wwwbolsonarocombr', 'esperada', 'anualizada', 'reonerados', 'permanecem', 'elevado', 'resolvido', 'poderá', 'encarecer', 'aluguel', 'residencial', 'integram', 'fraqueza', 'josé', 'luis', 'processadora', 'st', 'aguardo', 'negativo', 'fábricas', 'racionam', 'neve', 'cosan', 'estendem', 'pesquisadas', 'turísticas', 'inflacionária', 'dificulta', 'monetária', 'elektro', 'mobilizam', 'frio', 'sábado', 'geada', 'ipcfipe', 'age', 'múltiplo', 'oi', 'garantirá', 'ancine', 'perde', 'pressões', 'diminuem', 'esfria', '‘mundo', 'acadêmico', 'desejar', 'tecnologia’', 'desfalque', 'programas', 'agravar', 'deixarão', 'rotativo', 'duráveis', 'pragas', 'omm', '‘triplo', 'consecutivo’', 'desempregadas', 'ficção', 'discute', 'buracos', 'descolados', 'realidade', 'acumula', 'itefacamp', 'sazonal', 'commodities', 'retraído', 'terçafeira', 'assinada', 'superam', 'querosene', 'chase', 'frankfurt', 'depreciação', 'acelerada', 'refutam', 'provoca', 'globo', '“jornal', 'nacional”', 'internos', 'chuvas', 'produtores', 'santos', 'faltava', 'segue', 'todo', 'vapor', 'compras', 'meme', 'br', 'properties', 'unidas', 'fauci', 'deixará', 'principal', 'assessor', 'médico', 'sudeste', 'evidente', 'desaceleração', 'distantes', 'concordou', 'gabinete', 'brasilagro', 'recuo', 'censo', 'contou', 'pensão', 'vitalícia', 'letônia', 'designa', '“estado', 'patrocinador', 'terrorismo”', 'indicia', 'suspeitos', 'assassinato', 'deixou', 'algoz', 'soviética', 'iniciam', 'década', 'perdida', 'especialistas', 'devemos', 'outro', 'jogado', 'lixo']\n"
     ]
    }
   ],
   "source": [
    "#Criando uma lista com os títulos de acordo com o target\n",
    "title_positiva = list(not_positiva['Titulo'])\n",
    "title_neutra = list(not_neutra['Titulo'])\n",
    "title_negativa = list(not_negativa['Titulo'])\n",
    "\n",
    "\n",
    "#Notícias divididas em palavras e sem stopwords\n",
    "palavras_title_positiva = stpwd(' '.join(title_positiva).split())\n",
    "palavras_title_neutra = stpwd(' '.join(title_neutra).split())\n",
    "palavras_title_negativa = stpwd(' '.join(title_negativa).split())\n",
    "\n",
    "\n",
    "#Criando um conjunto que contém todas as palavras que estão presentes no título\n",
    "palavras_port_titulo = palavras_title_positiva + palavras_title_neutra + palavras_title_negativa\n",
    "palavras_port_titulo = list(dict.fromkeys(palavras_port_titulo))\n",
    "##print(palavras_port_titulo)\n",
    "\n",
    "title_positiva_series = pd.Series(palavras_title_positiva)\n",
    "title_neutra_series = pd.Series(palavras_title_neutra)\n",
    "title_negativa_series = pd.Series(palavras_title_negativa)\n",
    "\n",
    "\n",
    "#Descobrindo a fequencia absoluta que as palavras aparecem nas notícias\n",
    "title_positiva_abs = title_positiva_series.value_counts()\n",
    "title_neutras_abs = title_neutra_series.value_counts()\n",
    "title_negativa_abs = title_negativa_series.value_counts()"
   ]
  },
  {
   "cell_type": "code",
   "execution_count": 103,
   "metadata": {},
   "outputs": [
    {
     "ename": "NameError",
     "evalue": "name 'laplace' is not defined",
     "output_type": "error",
     "traceback": [
      "\u001b[1;31m---------------------------------------------------------------------------\u001b[0m",
      "\u001b[1;31mNameError\u001b[0m                                 Traceback (most recent call last)",
      "\u001b[1;32m~\\AppData\\Local\\Temp/ipykernel_20404/4119471782.py\u001b[0m in \u001b[0;36m<module>\u001b[1;34m\u001b[0m\n\u001b[0;32m     16\u001b[0m \u001b[1;33m\u001b[0m\u001b[0m\n\u001b[0;32m     17\u001b[0m     \u001b[1;32mfor\u001b[0m \u001b[0mp_titulo\u001b[0m \u001b[1;32min\u001b[0m \u001b[0mpalavras_titulo\u001b[0m\u001b[1;33m:\u001b[0m\u001b[1;33m\u001b[0m\u001b[1;33m\u001b[0m\u001b[0m\n\u001b[1;32m---> 18\u001b[1;33m         \u001b[0mprob_Positiva_Title\u001b[0m \u001b[1;33m=\u001b[0m \u001b[0mprob_Positiva_Title\u001b[0m \u001b[1;33m*\u001b[0m \u001b[0mlaplace\u001b[0m\u001b[1;33m(\u001b[0m\u001b[0mp_titulo\u001b[0m\u001b[1;33m,\u001b[0m \u001b[0mtitle_positiva_abs\u001b[0m\u001b[1;33m,\u001b[0m\u001b[0mpalavras_port_titulo\u001b[0m\u001b[1;33m)\u001b[0m\u001b[1;33m\u001b[0m\u001b[1;33m\u001b[0m\u001b[0m\n\u001b[0m\u001b[0;32m     19\u001b[0m \u001b[1;33m\u001b[0m\u001b[0m\n\u001b[0;32m     20\u001b[0m         \u001b[0mprob_Neutra_Title\u001b[0m \u001b[1;33m=\u001b[0m \u001b[0mprob_Neutra_Tile\u001b[0m \u001b[1;33m*\u001b[0m \u001b[0mlaplace\u001b[0m\u001b[1;33m(\u001b[0m\u001b[0mp_titulo\u001b[0m\u001b[1;33m,\u001b[0m\u001b[0mtitle_neutras_abs\u001b[0m\u001b[1;33m,\u001b[0m \u001b[0mpalavras_port_titulo\u001b[0m\u001b[1;33m)\u001b[0m\u001b[1;33m\u001b[0m\u001b[1;33m\u001b[0m\u001b[0m\n",
      "\u001b[1;31mNameError\u001b[0m: name 'laplace' is not defined"
     ]
    }
   ],
   "source": [
    "#Probabilidades de ser Positiva, Neutra ou Negativa\n",
    "prob_positiva = len(palavras_title_positiva) /len(palavras_port_titulo)\n",
    "prob_neutra = len(title_neutra_series) /len(palavras_port_titulo)\n",
    "prob_negativa = len(title_negativa_series) /len(palavras_port_titulo)\n",
    "\n",
    "#Probabilidade de ser Positiva, Neutra ou Negativa dada a Notícia\n",
    "lista_classifica_titulo = []\n",
    "for not_titulo in test.Titulo:\n",
    "\n",
    "    noticia_titulo = cleanup(not_titulo)\n",
    "    palavras_titulo = stpwd(not_titulo.split())\n",
    "\n",
    "    prob_Positiva_Title = 1\n",
    "    prob_Neutra_Title = 1\n",
    "    prob_Negativa_Title = 1\n",
    "\n",
    "    for p_titulo in palavras_titulo:\n",
    "        prob_Positiva_Title = prob_Positiva_Title * laplace(p_titulo, title_positiva_abs,palavras_port_titulo)\n",
    "\n",
    "        prob_Neutra_Title = prob_Neutra_Tile * laplace(p_titulo,title_neutras_abs, palavras_port_titulo) \n",
    "\n",
    "        prob_Negativa_Title = prob_Negativa_Title * laplace(p_titulo,title_negativa_abs,palavras_port_titulo) \n",
    "\n",
    "    prob_Positiva_Title *= prob_positiva\n",
    "    prob_Neutra_Tile *= prob_neutra\n",
    "    prob_Negativa_Title *= prob_negativa\n",
    "\n",
    "#Classificação da notícia com base nas probabilidades de ela ser Positiva, Neutra ou Negativa\n",
    "    if prob_Positiva_Title > prob_Neutra_Tile and prob_Positiva_Title > prob_Negativa_Title:\n",
    "        lista_classifica_titulo.append(\"Positiva\")\n",
    "    elif prob_Neutra_Tile > prob_Positiva_Title and prob_Neutra_Tile > prob_Negativa_Title:\n",
    "        lista_classifica_titulo.append(\"Neutra\")\n",
    "    elif prob_Negativa_Title > prob_Positiva_Title and prob_Negativa_Title > prob_Neutra_Tile:\n",
    "        lista_classifica_titulo.append(\"Negativa\")\n",
    " \n",
    "target_title = pd.Series(lista_classifica_titulo)\n",
    "target_title.value_counts(normalize=True)\n",
    "test[\"Classificação_pelo_Titulo\"] = target_title\n",
    "\n",
    "#Comparação das classificações manuais e classificações feitas pelo algorítimo\n",
    "crosstab_titulo_relativo = pd.crosstab(test[\"Target\"], test[\"Classificação_pelo_Titulo\"], normalize=\"index\")\n"
   ]
  },
  {
   "cell_type": "markdown",
   "metadata": {},
   "source": [
    "___\n",
    "### Verificando a performance do Classificador\n",
    "\n",
    "Agora você deve testar o seu classificador com a base de Testes."
   ]
  },
  {
   "cell_type": "code",
   "execution_count": null,
   "metadata": {},
   "outputs": [],
   "source": []
  },
  {
   "cell_type": "code",
   "execution_count": null,
   "metadata": {},
   "outputs": [],
   "source": []
  },
  {
   "cell_type": "code",
   "execution_count": null,
   "metadata": {},
   "outputs": [],
   "source": []
  },
  {
   "cell_type": "markdown",
   "metadata": {},
   "source": [
    "___\n",
    "### Concluindo"
   ]
  },
  {
   "cell_type": "code",
   "execution_count": null,
   "metadata": {},
   "outputs": [],
   "source": []
  },
  {
   "cell_type": "code",
   "execution_count": null,
   "metadata": {},
   "outputs": [],
   "source": []
  },
  {
   "cell_type": "code",
   "execution_count": null,
   "metadata": {},
   "outputs": [],
   "source": []
  },
  {
   "cell_type": "markdown",
   "metadata": {},
   "source": [
    "___\n",
    "### Qualidade do Classificador a partir de novas separações das notícias entre Treinamento e Teste\n",
    "\n",
    "Caso for fazer esse item do Projeto"
   ]
  },
  {
   "cell_type": "code",
   "execution_count": null,
   "metadata": {},
   "outputs": [],
   "source": []
  },
  {
   "cell_type": "code",
   "execution_count": null,
   "metadata": {},
   "outputs": [],
   "source": []
  },
  {
   "cell_type": "code",
   "execution_count": null,
   "metadata": {},
   "outputs": [],
   "source": []
  },
  {
   "cell_type": "markdown",
   "metadata": {},
   "source": [
    "___\n",
    "## Aperfeiçoamento:\n",
    "\n",
    "Trabalhos que conseguirem pelo menos conceito B vão evoluir em conceito dependendo da quantidade de itens avançados:\n",
    "\n",
    "* IMPLEMENTOU outras limpezas e transformações que não afetem a qualidade da informação contida nas notícias. Ex: stemming, lemmatization, stopwords\n",
    "* CONSIDEROU mais de duas caterogias na variável Target e INCREMENTOU a quantidade de notícias, mantendo pelo menos 250 notícias por caterogia (OBRIGATÓRIO PARA TRIOS, sem contar como item avançado)\n",
    "* Para Target com duas categorias: CRIOU pelo menos quatro categorias intermediárias de relevância baseadas na probabilidade: ex.: muito relevante, relevante, neutro, irrelevante, muito irrelevante\n",
    "* EXPLICOU porquê não pode usar o próprio classificador para gerar mais amostras de treinamento\n",
    "* PROPÔS diferentes cenários para Naïve Bayes fora do contexto do projeto (pelo menos dois cenários, exceto aqueles já apresentados em sala pelos professores: por exemplo, filtro de spam)\n",
    "* SUGERIU e EXPLICOU melhorias reais com indicações concretas de como implementar (indicar como fazer e indicar material de pesquisa)\n",
    "* FEZ o item Qualidade do Classificador a partir de novas separações das Notícias entre Treinamento e Teste descrito no enunciado do projeto (OBRIGATÓRIO para conceitos A ou A+)"
   ]
  },
  {
   "cell_type": "markdown",
   "metadata": {},
   "source": [
    "___\n",
    "## Referências"
   ]
  },
  {
   "cell_type": "markdown",
   "metadata": {},
   "source": [
    "[Naive Bayes and Text Classification](https://arxiv.org/pdf/1410.5329.pdf)  **Mais completo**\n",
    "\n",
    "[A practical explanation of a Naive Bayes Classifier](https://monkeylearn.com/blog/practical-explanation-naive-bayes-classifier/) **Mais simples**"
   ]
  },
  {
   "cell_type": "code",
   "execution_count": null,
   "metadata": {},
   "outputs": [],
   "source": []
  }
 ],
 "metadata": {
  "kernelspec": {
   "display_name": "Python 3 (ipykernel)",
   "language": "python",
   "name": "python3"
  },
  "language_info": {
   "codemirror_mode": {
    "name": "ipython",
    "version": 3
   },
   "file_extension": ".py",
   "mimetype": "text/x-python",
   "name": "python",
   "nbconvert_exporter": "python",
   "pygments_lexer": "ipython3",
   "version": "3.9.7"
  }
 },
 "nbformat": 4,
 "nbformat_minor": 4
}
